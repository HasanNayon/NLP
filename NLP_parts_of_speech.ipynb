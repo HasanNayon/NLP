{
  "nbformat": 4,
  "nbformat_minor": 0,
  "metadata": {
    "colab": {
      "provenance": [],
      "authorship_tag": "ABX9TyNL6GpFuALZrjHxE4L4QMwo",
      "include_colab_link": true
    },
    "kernelspec": {
      "name": "python3",
      "display_name": "Python 3"
    },
    "language_info": {
      "name": "python"
    }
  },
  "cells": [
    {
      "cell_type": "markdown",
      "metadata": {
        "id": "view-in-github",
        "colab_type": "text"
      },
      "source": [
        "<a href=\"https://colab.research.google.com/github/HasanNayon/NLP/blob/main/NLP_parts_of_speech.ipynb\" target=\"_parent\"><img src=\"https://colab.research.google.com/assets/colab-badge.svg\" alt=\"Open In Colab\"/></a>"
      ]
    },
    {
      "cell_type": "code",
      "execution_count": 1,
      "metadata": {
        "id": "iA-B4cYMZ3FN"
      },
      "outputs": [],
      "source": [
        "x= 'Natural Language Processing (NLP) is a subfield of artificial intelligence that focuses on the interaction between computers and human language. It involves various tasks such as tokenization, part-of-speech tagging, named entity recognition, sentiment analysis, and machine translation. Modern NLP techniques leverage deep learning models like transformers, particularly architectures such as BERT and GPT, which have significantly improved the understanding and generation of text. Additionally, NLP plays a crucial role in applications like chatbots, voice assistants, and automated text summarization, making it a vital component in developing intelligent and human-like communication systems.'"
      ]
    },
    {
      "cell_type": "code",
      "source": [
        "from nltk.tokenize import wordpunct_tokenize"
      ],
      "metadata": {
        "id": "syj-MRuDZ7W4"
      },
      "execution_count": 5,
      "outputs": []
    },
    {
      "cell_type": "code",
      "source": [
        "word = wordpunct_tokenize(x)"
      ],
      "metadata": {
        "id": "03lcuYCoaA6O"
      },
      "execution_count": 15,
      "outputs": []
    },
    {
      "cell_type": "code",
      "source": [
        "word"
      ],
      "metadata": {
        "colab": {
          "base_uri": "https://localhost:8080/"
        },
        "id": "ZIUAbBHuaL1h",
        "outputId": "09a2a43a-f93c-467f-a392-1bac78c01b98"
      },
      "execution_count": 16,
      "outputs": [
        {
          "output_type": "execute_result",
          "data": {
            "text/plain": [
              "['Natural',\n",
              " 'Language',\n",
              " 'Processing',\n",
              " '(',\n",
              " 'NLP',\n",
              " ')',\n",
              " 'is',\n",
              " 'a',\n",
              " 'subfield',\n",
              " 'of',\n",
              " 'artificial',\n",
              " 'intelligence',\n",
              " 'that',\n",
              " 'focuses',\n",
              " 'on',\n",
              " 'the',\n",
              " 'interaction',\n",
              " 'between',\n",
              " 'computers',\n",
              " 'and',\n",
              " 'human',\n",
              " 'language',\n",
              " '.',\n",
              " 'It',\n",
              " 'involves',\n",
              " 'various',\n",
              " 'tasks',\n",
              " 'such',\n",
              " 'as',\n",
              " 'tokenization',\n",
              " ',',\n",
              " 'part',\n",
              " '-',\n",
              " 'of',\n",
              " '-',\n",
              " 'speech',\n",
              " 'tagging',\n",
              " ',',\n",
              " 'named',\n",
              " 'entity',\n",
              " 'recognition',\n",
              " ',',\n",
              " 'sentiment',\n",
              " 'analysis',\n",
              " ',',\n",
              " 'and',\n",
              " 'machine',\n",
              " 'translation',\n",
              " '.',\n",
              " 'Modern',\n",
              " 'NLP',\n",
              " 'techniques',\n",
              " 'leverage',\n",
              " 'deep',\n",
              " 'learning',\n",
              " 'models',\n",
              " 'like',\n",
              " 'transformers',\n",
              " ',',\n",
              " 'particularly',\n",
              " 'architectures',\n",
              " 'such',\n",
              " 'as',\n",
              " 'BERT',\n",
              " 'and',\n",
              " 'GPT',\n",
              " ',',\n",
              " 'which',\n",
              " 'have',\n",
              " 'significantly',\n",
              " 'improved',\n",
              " 'the',\n",
              " 'understanding',\n",
              " 'and',\n",
              " 'generation',\n",
              " 'of',\n",
              " 'text',\n",
              " '.',\n",
              " 'Additionally',\n",
              " ',',\n",
              " 'NLP',\n",
              " 'plays',\n",
              " 'a',\n",
              " 'crucial',\n",
              " 'role',\n",
              " 'in',\n",
              " 'applications',\n",
              " 'like',\n",
              " 'chatbots',\n",
              " ',',\n",
              " 'voice',\n",
              " 'assistants',\n",
              " ',',\n",
              " 'and',\n",
              " 'automated',\n",
              " 'text',\n",
              " 'summarization',\n",
              " ',',\n",
              " 'making',\n",
              " 'it',\n",
              " 'a',\n",
              " 'vital',\n",
              " 'component',\n",
              " 'in',\n",
              " 'developing',\n",
              " 'intelligent',\n",
              " 'and',\n",
              " 'human',\n",
              " '-',\n",
              " 'like',\n",
              " 'communication',\n",
              " 'systems',\n",
              " '.']"
            ]
          },
          "metadata": {},
          "execution_count": 16
        }
      ]
    },
    {
      "cell_type": "code",
      "source": [
        "from nltk import pos_tag"
      ],
      "metadata": {
        "id": "ROk5kvYVadym"
      },
      "execution_count": 18,
      "outputs": []
    },
    {
      "cell_type": "code",
      "source": [
        "p = pos_tag(word)"
      ],
      "metadata": {
        "id": "nsKh3tpRasM1"
      },
      "execution_count": 19,
      "outputs": []
    },
    {
      "cell_type": "code",
      "source": [
        "import nltk\n",
        "nltk.download('averaged_perceptron_tagger_eng')"
      ],
      "metadata": {
        "colab": {
          "base_uri": "https://localhost:8080/"
        },
        "id": "t2Whx5jCa0I-",
        "outputId": "6ec6df2a-bdd3-4349-a177-f508c7bfc899"
      },
      "execution_count": 20,
      "outputs": [
        {
          "output_type": "stream",
          "name": "stderr",
          "text": [
            "[nltk_data] Downloading package averaged_perceptron_tagger_eng to\n",
            "[nltk_data]     /root/nltk_data...\n",
            "[nltk_data]   Package averaged_perceptron_tagger_eng is already up-to-\n",
            "[nltk_data]       date!\n"
          ]
        },
        {
          "output_type": "execute_result",
          "data": {
            "text/plain": [
              "True"
            ]
          },
          "metadata": {},
          "execution_count": 20
        }
      ]
    },
    {
      "cell_type": "code",
      "source": [
        "p"
      ],
      "metadata": {
        "colab": {
          "base_uri": "https://localhost:8080/"
        },
        "id": "vm_q-7Ola_L0",
        "outputId": "9f724c18-7424-4251-9c48-ed836defa5d8"
      },
      "execution_count": 21,
      "outputs": [
        {
          "output_type": "execute_result",
          "data": {
            "text/plain": [
              "[('Natural', 'JJ'),\n",
              " ('Language', 'NNP'),\n",
              " ('Processing', 'NNP'),\n",
              " ('(', '('),\n",
              " ('NLP', 'NNP'),\n",
              " (')', ')'),\n",
              " ('is', 'VBZ'),\n",
              " ('a', 'DT'),\n",
              " ('subfield', 'NN'),\n",
              " ('of', 'IN'),\n",
              " ('artificial', 'JJ'),\n",
              " ('intelligence', 'NN'),\n",
              " ('that', 'WDT'),\n",
              " ('focuses', 'VBZ'),\n",
              " ('on', 'IN'),\n",
              " ('the', 'DT'),\n",
              " ('interaction', 'NN'),\n",
              " ('between', 'IN'),\n",
              " ('computers', 'NNS'),\n",
              " ('and', 'CC'),\n",
              " ('human', 'JJ'),\n",
              " ('language', 'NN'),\n",
              " ('.', '.'),\n",
              " ('It', 'PRP'),\n",
              " ('involves', 'VBZ'),\n",
              " ('various', 'JJ'),\n",
              " ('tasks', 'NNS'),\n",
              " ('such', 'JJ'),\n",
              " ('as', 'IN'),\n",
              " ('tokenization', 'NN'),\n",
              " (',', ','),\n",
              " ('part', 'NN'),\n",
              " ('-', ':'),\n",
              " ('of', 'IN'),\n",
              " ('-', ':'),\n",
              " ('speech', 'NN'),\n",
              " ('tagging', 'NN'),\n",
              " (',', ','),\n",
              " ('named', 'VBN'),\n",
              " ('entity', 'NN'),\n",
              " ('recognition', 'NN'),\n",
              " (',', ','),\n",
              " ('sentiment', 'NN'),\n",
              " ('analysis', 'NN'),\n",
              " (',', ','),\n",
              " ('and', 'CC'),\n",
              " ('machine', 'NN'),\n",
              " ('translation', 'NN'),\n",
              " ('.', '.'),\n",
              " ('Modern', 'NNP'),\n",
              " ('NLP', 'NNP'),\n",
              " ('techniques', 'VBZ'),\n",
              " ('leverage', 'VB'),\n",
              " ('deep', 'JJ'),\n",
              " ('learning', 'NN'),\n",
              " ('models', 'NNS'),\n",
              " ('like', 'IN'),\n",
              " ('transformers', 'NNS'),\n",
              " (',', ','),\n",
              " ('particularly', 'RB'),\n",
              " ('architectures', 'NNS'),\n",
              " ('such', 'JJ'),\n",
              " ('as', 'IN'),\n",
              " ('BERT', 'NNP'),\n",
              " ('and', 'CC'),\n",
              " ('GPT', 'NNP'),\n",
              " (',', ','),\n",
              " ('which', 'WDT'),\n",
              " ('have', 'VBP'),\n",
              " ('significantly', 'RB'),\n",
              " ('improved', 'VBN'),\n",
              " ('the', 'DT'),\n",
              " ('understanding', 'NN'),\n",
              " ('and', 'CC'),\n",
              " ('generation', 'NN'),\n",
              " ('of', 'IN'),\n",
              " ('text', 'NN'),\n",
              " ('.', '.'),\n",
              " ('Additionally', 'RB'),\n",
              " (',', ','),\n",
              " ('NLP', 'NNP'),\n",
              " ('plays', 'VBZ'),\n",
              " ('a', 'DT'),\n",
              " ('crucial', 'JJ'),\n",
              " ('role', 'NN'),\n",
              " ('in', 'IN'),\n",
              " ('applications', 'NNS'),\n",
              " ('like', 'IN'),\n",
              " ('chatbots', 'NNS'),\n",
              " (',', ','),\n",
              " ('voice', 'NN'),\n",
              " ('assistants', 'NNS'),\n",
              " (',', ','),\n",
              " ('and', 'CC'),\n",
              " ('automated', 'VBD'),\n",
              " ('text', 'JJ'),\n",
              " ('summarization', 'NN'),\n",
              " (',', ','),\n",
              " ('making', 'VBG'),\n",
              " ('it', 'PRP'),\n",
              " ('a', 'DT'),\n",
              " ('vital', 'JJ'),\n",
              " ('component', 'NN'),\n",
              " ('in', 'IN'),\n",
              " ('developing', 'VBG'),\n",
              " ('intelligent', 'JJ'),\n",
              " ('and', 'CC'),\n",
              " ('human', 'JJ'),\n",
              " ('-', ':'),\n",
              " ('like', 'IN'),\n",
              " ('communication', 'NN'),\n",
              " ('systems', 'NNS'),\n",
              " ('.', '.')]"
            ]
          },
          "metadata": {},
          "execution_count": 21
        }
      ]
    },
    {
      "cell_type": "code",
      "source": [],
      "metadata": {
        "id": "vJPGzKmSbAem"
      },
      "execution_count": null,
      "outputs": []
    }
  ]
}